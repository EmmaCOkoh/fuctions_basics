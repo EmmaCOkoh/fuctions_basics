{
 "cells": [
  {
   "cell_type": "markdown",
   "id": "0c65e17f-bc37-4645-8999-a571d70f7058",
   "metadata": {},
   "source": [
    "### How to Build a Function"
   ]
  },
  {
   "cell_type": "code",
   "execution_count": 5,
   "id": "5c0d1eb2-7bc0-4b9d-bfbf-ff12a6e17fb5",
   "metadata": {},
   "outputs": [],
   "source": [
    "def say_hello():\n",
    "    print(\"Hello there!\")"
   ]
  },
  {
   "cell_type": "code",
   "execution_count": 6,
   "id": "de391e4d-83fa-4a98-9caa-98a5f8437568",
   "metadata": {},
   "outputs": [
    {
     "name": "stdout",
     "output_type": "stream",
     "text": [
      "Hello there!\n"
     ]
    }
   ],
   "source": [
    "say_hello()"
   ]
  },
  {
   "cell_type": "markdown",
   "id": "fe4cce64-1f60-4813-8dcc-e89f8d108938",
   "metadata": {},
   "source": [
    "### Practice 1: A Function That Says Hello"
   ]
  },
  {
   "cell_type": "code",
   "execution_count": 2,
   "id": "3c4f20f1-7ad8-4c16-abf8-c0018a06fcec",
   "metadata": {},
   "outputs": [
    {
     "name": "stdout",
     "output_type": "stream",
     "text": [
      "Hello, friend\n",
      "Hello, friend\n"
     ]
    }
   ],
   "source": [
    "def say_hello():\n",
    "    print(\"Hello, friend\")\n",
    "\n",
    "say_hello()\n",
    "say_hello()"
   ]
  },
  {
   "cell_type": "markdown",
   "id": "5cd10c2e-2c9b-4cfa-bf9b-f111e8a11580",
   "metadata": {},
   "source": [
    "### Practice 2: Function With One Input (Parameter)"
   ]
  },
  {
   "cell_type": "code",
   "execution_count": 3,
   "id": "d92ec564-ab4f-4b36-a830-8cb53ff76076",
   "metadata": {},
   "outputs": [
    {
     "name": "stdout",
     "output_type": "stream",
     "text": [
      "Hi Emmanuel, welcome!\n",
      "Hi Oiza, welcome!\n"
     ]
    }
   ],
   "source": [
    "def greet(name):\n",
    "    print(f\"Hi {name}, welcome!\")\n",
    "\n",
    "greet(\"Emmanuel\")\n",
    "greet(\"Oiza\")"
   ]
  },
  {
   "cell_type": "markdown",
   "id": "497f5430-13f9-4564-b94f-750dbb5348df",
   "metadata": {},
   "source": [
    "### Practice 3: Function That Adds Numbers"
   ]
  },
  {
   "cell_type": "code",
   "execution_count": 4,
   "id": "0c51aa2e-68fb-4ef4-ae73-124233130a62",
   "metadata": {},
   "outputs": [
    {
     "name": "stdout",
     "output_type": "stream",
     "text": [
      "The result is: 8\n",
      "The result is: 30\n"
     ]
    }
   ],
   "source": [
    "def add_numbers(a, b):\n",
    "    result = a + b\n",
    "    print(f\"The result is: {result}\")\n",
    "\n",
    "add_numbers(3, 5)\n",
    "add_numbers(10,20)"
   ]
  },
  {
   "cell_type": "markdown",
   "id": "b93dc6bf-841f-49e9-b5ae-70a420b7c2be",
   "metadata": {},
   "source": [
    "### Practice 4: Function That Returns Value"
   ]
  },
  {
   "cell_type": "code",
   "execution_count": 5,
   "id": "bbddc7ac-094f-416e-9cc0-ee2c60581974",
   "metadata": {},
   "outputs": [
    {
     "name": "stdout",
     "output_type": "stream",
     "text": [
      "8\n"
     ]
    }
   ],
   "source": [
    "def double(number):\n",
    "    return number * 2\n",
    "\n",
    "result = double(4)\n",
    "print(result)"
   ]
  },
  {
   "cell_type": "markdown",
   "id": "143dbb25-d18a-4bd1-9f23-ce6677517eb5",
   "metadata": {},
   "source": [
    "### Portfolio Project: Personal Greeting Machine"
   ]
  },
  {
   "cell_type": "code",
   "execution_count": 11,
   "id": "fd723060-d103-419d-b1a0-9145ba1033e0",
   "metadata": {},
   "outputs": [
    {
     "name": "stdout",
     "output_type": "stream",
     "text": [
      "Hello Emmanuel! I'm glad you're feeling great today.\n",
      "Hello Oiza! I'm glad you're feeling awesome today.\n"
     ]
    }
   ],
   "source": [
    "def personal_greeting(name, feeling):\n",
    "    print(f\"Hello {name}! I'm glad you're feeling {feeling} today.\")\n",
    "\n",
    "personal_greeting(\"Emmanuel\", \"great\")\n",
    "personal_greeting(\"Oiza\", \"awesome\")"
   ]
  },
  {
   "cell_type": "code",
   "execution_count": null,
   "id": "6a1eda95-29d8-4390-ad78-91e7f1fc9ac0",
   "metadata": {},
   "outputs": [],
   "source": []
  }
 ],
 "metadata": {
  "kernelspec": {
   "display_name": "Python 3 (ipykernel)",
   "language": "python",
   "name": "python3"
  },
  "language_info": {
   "codemirror_mode": {
    "name": "ipython",
    "version": 3
   },
   "file_extension": ".py",
   "mimetype": "text/x-python",
   "name": "python",
   "nbconvert_exporter": "python",
   "pygments_lexer": "ipython3",
   "version": "3.12.3"
  }
 },
 "nbformat": 4,
 "nbformat_minor": 5
}
